{
 "cells": [
  {
   "cell_type": "code",
   "execution_count": 313,
   "metadata": {},
   "outputs": [],
   "source": [
    "from sympy.interactive import printing\n",
    "printing.init_printing(use_latex = True)\n",
    "import numpy as np\n",
    "# import sympy as sp\n",
    "import os\n",
    "import sys\n",
    "sys.path.append(f\"C:\\\\Users\\\\maurovlachus\\\\OneDrive - Technical University of Cluj-Napoca\\\\utcn\\\\master\\\\caa\\\\proiect\\\\p1_opamps\\\\ekvParameterExtraction\\\\ekvExtractionScripts\")\n",
    "from siUnits import *\n",
    "# import scipy as sp\n",
    "# import latexify"
   ]
  },
  {
   "cell_type": "markdown",
   "metadata": {},
   "source": [
    "$I_{D} = I_Sln^2[1+exp(\\frac{V_G-V_{Th0}}{2nV_T})] = 2 \\mu C_{ox}nV_T^2\\frac{W}{L}ln^2[1+exp(\\frac{V_G-V_{Th0}}{2nV_T})]$"
   ]
  },
  {
   "cell_type": "markdown",
   "metadata": {},
   "source": [
    "$I_S = 689 nA, V_{Th0}: 387 mV, \\kappa: 0.822$"
   ]
  },
  {
   "cell_type": "markdown",
   "metadata": {},
   "source": [
    "VG = [0, 1]\n",
    "Is: 727nA, VTh0: 400mV, kappa: 0.816"
   ]
  },
  {
   "cell_type": "markdown",
   "metadata": {},
   "source": [
    "$I_S = 2 \\mu C_{ox}nV_T^2\\frac{W}{L} = \\frac{2 \\mu C_{ox}V_T^2\\frac{W}{L}}{\\kappa}$\n",
    "\n",
    "<!-- $\\frac{W}{L} = \\frac{\\kappa I_S}{\\mu C_{ox}V_T^2}$ -->\n",
    "\n",
    "$  \\frac{2\\mu C_{ox}V_T^2}{\\kappa} = \\frac{I_S}{W/L}$\n",
    "\n",
    "$\\mu C_{ox} = \\frac{I_S \\kappa}{2(W/L)V_T^2}$"
   ]
  },
  {
   "cell_type": "code",
   "execution_count": 315,
   "metadata": {},
   "outputs": [],
   "source": [
    "W_L = 2         #W/L was 2u/1u for the reference transistors \n",
    "VT = 0.0258\n",
    "\n",
    "Is_n = siString2Num(\"689n\")\n",
    "Vth0_n = siString2Num(\"387m\")\n",
    "k_n = 0.822\n",
    "n_n = 1/k_n\n",
    "uCox_n = (Is_n*k_n)/(2*2*VT**2)\n",
    "u_n = 1.343e-2\n",
    "lambdac_n = 0.04\n",
    "\n",
    "\n",
    "\n",
    "Is_p = siString2Num(\"904.8n\")\n",
    "Vth0_p = siString2Num(\"371m\")\n",
    "k_p = 0.816\n",
    "n_p = 1/k_p\n",
    "uCox_p = (Is_p*k_p)/(2*2*VT**2)\n",
    "u_p = 5.2e-3\n",
    "lambdac_n = 0.02"
   ]
  },
  {
   "cell_type": "markdown",
   "metadata": {},
   "source": [
    "## Specificatii\n",
    "|Tip OTA |Gain |GBW | C_L| VDD | VSS | IQ |\n",
    "|---|---|---|---|---|---|---|\n",
    "FC NMOS |70dB | 40 MHz | 5pF | 1.65| -1.65| 100uA|"
   ]
  },
  {
   "cell_type": "code",
   "execution_count": 316,
   "metadata": {},
   "outputs": [],
   "source": [
    "gbw = siString2Num(\"40M\")\n",
    "gain = 10**(70/20)              # 70dB to linear\n",
    "C_L = siString2Num(\"5p\")\n",
    "VDD = 1.65\n",
    "VSS = -1.65\n",
    "IQ = siString2Num(\"100u\")"
   ]
  },
  {
   "cell_type": "markdown",
   "metadata": {},
   "source": [
    "$gm_1 = 2\\pi GBW C_L$"
   ]
  },
  {
   "cell_type": "code",
   "execution_count": 317,
   "metadata": {},
   "outputs": [
    {
     "name": "stdout",
     "output_type": "stream",
     "text": [
      "gm1,2 = 1.257mS\n"
     ]
    }
   ],
   "source": [
    "gm1 = 2*math.pi * gbw * C_L\n",
    "print(f\"gm1,2 = {num2SiStringRounded(gm1)}S\")"
   ]
  },
  {
   "cell_type": "markdown",
   "metadata": {},
   "source": [
    "$gm = \\frac{I_D}{nV_T}\\cdot \\frac{1-exp(-\\sqrt{IC})}{\\sqrt{IC}} = \\frac{kI_D}{V_T}\\cdot \\frac{1-exp(-\\sqrt{IC})}{\\sqrt{IC}}$\n",
    "\n",
    "$IC = \\frac{I_D}{I_S} = \\frac{I_D}{2 \\mu C_{ox}nV_T^2\\frac{W}{L}}$ = coeficientul de inversie\n",
    "\n",
    "$I_D = \\frac{gmV_T\\sqrt{IC}}{\\kappa[1-exp(-\\sqrt{IC})]}$"
   ]
  },
  {
   "cell_type": "code",
   "execution_count": 318,
   "metadata": {},
   "outputs": [],
   "source": [
    "# gm, Id, k, IC, VT = sp.symbols('gm Id k IC VT')\n",
    "# eq = gm - k*Id/VT*(1-sp.exp(-IC))/sp.sqrt(IC)\n",
    "# sol = sp.solve(eq, IC)"
   ]
  },
  {
   "cell_type": "code",
   "execution_count": 319,
   "metadata": {},
   "outputs": [
    {
     "name": "stdout",
     "output_type": "stream",
     "text": [
      "ID = 59.676uA\n"
     ]
    }
   ],
   "source": [
    "IC = 0.8\n",
    "ID = (gm1*VT*np.sqrt(IC))/(k_n*(1-np.exp(-np.sqrt(IC))))\n",
    "print(f\"ID = {num2SiStringRounded(ID)}A\")\n",
    "IBiasDiffPair = 2*ID"
   ]
  },
  {
   "cell_type": "markdown",
   "metadata": {},
   "source": [
    "$\\frac{W}{L} = \\frac{I_D}{2 \\mu C_{ox}nV_T^2IC}$"
   ]
  },
  {
   "cell_type": "code",
   "execution_count": 320,
   "metadata": {},
   "outputs": [
    {
     "name": "stdout",
     "output_type": "stream",
     "text": [
      "W/L_1,2 = 28.149u/130.0n\n"
     ]
    }
   ],
   "source": [
    "def getDimensions(IC, ID, mostype):\n",
    "    if mostype == \"n\":\n",
    "        return (ID)/(2*uCox_n*n_n*VT**2*IC)\n",
    "    elif mostype == \"p\":\n",
    "        return (ID)/(2*uCox_p*n_p*VT**2*IC)\n",
    "    else:\n",
    "        raise ValueError(\"mostype has to be either \\\"n\\\" or \\\"p\\\"\")\n",
    "\n",
    "# W_L = (ID)/(2*uCox*n*VT**2*IC)\n",
    "W_L1 = getDimensions(IC, ID, \"n\")\n",
    "L = siString2Num(\"130n\")\n",
    "W = W_L1*L\n",
    "# print(W)\n",
    "print(f\"W/L_1,2 = {num2SiStringRounded(W)}/{num2SiStringRounded(L)}\")"
   ]
  },
  {
   "cell_type": "markdown",
   "metadata": {},
   "source": [
    "$f_t = \\frac{\\mu V_T}{2\\pi L^2}\\cdot(\\sqrt{1+IC}-1)$"
   ]
  },
  {
   "cell_type": "code",
   "execution_count": 321,
   "metadata": {},
   "outputs": [
    {
     "name": "stdout",
     "output_type": "stream",
     "text": [
      "ft = 1.115GHz\n",
      "ft > gbw = 40.0MHz\n"
     ]
    }
   ],
   "source": [
    "ft = (u_n*VT)/(2*np.pi*L**2)*(np.sqrt(1+IC)-1)\n",
    "print(f\"ft = {num2SiStringRounded(ft)}Hz\")\n",
    "if ft < gbw:\n",
    "    print(f\"ft < gbw = {num2SiStringRounded(gbw)}Hz\")\n",
    "else:\n",
    "    print(f\"ft > gbw = {num2SiStringRounded(gbw)}Hz\")"
   ]
  },
  {
   "cell_type": "markdown",
   "metadata": {},
   "source": [
    "## M10, M11 Dimensioning\n",
    "$I_{DS\\_10,11} > I_{Bias\\_DiffPair}$"
   ]
  },
  {
   "cell_type": "code",
   "execution_count": 322,
   "metadata": {},
   "outputs": [
    {
     "name": "stdout",
     "output_type": "stream",
     "text": [
      "ID_10,11 = 143.222u\n",
      "W/L_10,11 = 15.829u/1.0u\n",
      "VDSat_10,11 = 195.63m\n"
     ]
    }
   ],
   "source": [
    "I10_11 = 1.2*IBiasDiffPair\n",
    "print(f\"ID_10,11 = {num2SiStringRounded(I10_11)}\")\n",
    "IC = 20      # strong inversion\n",
    "\n",
    "W_L_10_11 = getDimensions(IC, I10_11, \"p\")\n",
    "L = siString2Num(\"1u\")\n",
    "W = W_L_10_11 * L\n",
    "print(f\"W/L_10,11 = {num2SiStringRounded(W)}/{num2SiStringRounded(L)}\")\n",
    "\n",
    "def getVDSat(IC):\n",
    "    return VT*(np.sqrt(1+IC)-1 + 4)\n",
    "VDSat = getVDSat(IC)\n",
    "print(f\"VDSat_10,11 = {num2SiStringRounded(VDSat)}\")\n"
   ]
  },
  {
   "cell_type": "code",
   "execution_count": 323,
   "metadata": {},
   "outputs": [
    {
     "name": "stdout",
     "output_type": "stream",
     "text": [
      "ft = 76.496MHz\n",
      "ft > gbw = 40.0MHz\n"
     ]
    }
   ],
   "source": [
    "ft = (u_p*VT)/(2*np.pi*L**2)*(np.sqrt(1+IC)-1)\n",
    "print(f\"ft = {num2SiStringRounded(ft)}Hz\")\n",
    "if ft < gbw:\n",
    "    print(f\"ft < gbw = {num2SiStringRounded(gbw)}Hz\")\n",
    "else:\n",
    "    print(f\"ft > gbw = {num2SiStringRounded(gbw)}Hz\")"
   ]
  },
  {
   "cell_type": "markdown",
   "metadata": {},
   "source": [
    "## M4, M5 Dimensioning\n",
    "\n",
    "$I_{DS\\_4,4} = I_{DS\\_10,11} - I_{Bias\\_DiffPair}/2$"
   ]
  },
  {
   "cell_type": "code",
   "execution_count": 324,
   "metadata": {},
   "outputs": [
    {
     "name": "stdout",
     "output_type": "stream",
     "text": [
      "IDS_4,5 = 83.546u\n",
      "W/L_4,5 = 20.787u/1.0u\n",
      "VDSat_4,5 = 195.63m\n"
     ]
    }
   ],
   "source": [
    "I4_5 = I10_11 -IBiasDiffPair/2\n",
    "print(f\"IDS_4,5 = {num2SiStringRounded(I4_5)}\")\n",
    "IC = 20      # strong inversion\n",
    "W_L_4_5 = getDimensions(IC, I10_11, \"n\")\n",
    "L = siString2Num(\"1u\")\n",
    "W = W_L_4_5 * L\n",
    "print(f\"W/L_4,5 = {num2SiStringRounded(W)}/{num2SiStringRounded(L)}\")\n",
    "print(f\"VDSat_4,5 = {num2SiStringRounded(getVDSat(IC))}\")"
   ]
  },
  {
   "cell_type": "code",
   "execution_count": 325,
   "metadata": {},
   "outputs": [
    {
     "name": "stdout",
     "output_type": "stream",
     "text": [
      "ft = 197.566MHz\n",
      "ft > gbw = 40.0MHz\n"
     ]
    }
   ],
   "source": [
    "ft = (u_n*VT)/(2*np.pi*L**2)*(np.sqrt(1+IC)-1)\n",
    "print(f\"ft = {num2SiStringRounded(ft)}Hz\")\n",
    "if ft < gbw:\n",
    "    print(f\"ft < gbw = {num2SiStringRounded(gbw)}Hz\")\n",
    "else:\n",
    "    print(f\"ft > gbw = {num2SiStringRounded(gbw)}Hz\")"
   ]
  },
  {
   "cell_type": "markdown",
   "metadata": {},
   "source": [
    "## M6, M7 Dimensioning\n",
    "$I_{DS\\_6,7} = I_{DS\\_10,11} - I_{Bias\\_DiffPair}/2$"
   ]
  },
  {
   "cell_type": "code",
   "execution_count": 326,
   "metadata": {},
   "outputs": [
    {
     "name": "stdout",
     "output_type": "stream",
     "text": [
      "IDS_6,7 = 83.546u\n",
      "W/L_6,7 = 3.153u/130.0n\n",
      "VDSat_6,7 = 162.969m\n"
     ]
    }
   ],
   "source": [
    "I6_7 = I10_11 - IBiasDiffPair/2\n",
    "print(f\"IDS_6,7 = {num2SiStringRounded(I6_7)}\")\n",
    "IC = 10      # strong inversion\n",
    "W_L_6_7 = getDimensions(IC, I6_7, \"n\")\n",
    "L = siString2Num(\"130n\")\n",
    "W = W_L_6_7 * L\n",
    "print(f\"W/L_6,7 = {num2SiStringRounded(W)}/{num2SiStringRounded(L)}\")\n",
    "print(f\"VDSat_6,7 = {num2SiStringRounded(getVDSat(IC))}\")\n"
   ]
  },
  {
   "cell_type": "code",
   "execution_count": 327,
   "metadata": {},
   "outputs": [
    {
     "name": "stdout",
     "output_type": "stream",
     "text": [
      "ft = 7.559GHz\n",
      "ft > gbw = 40.0MHz\n"
     ]
    }
   ],
   "source": [
    "ft = (u_n*VT)/(2*np.pi*L**2)*(np.sqrt(1+IC)-1)\n",
    "print(f\"ft = {num2SiStringRounded(ft)}Hz\")\n",
    "if ft < gbw:\n",
    "    print(f\"ft < gbw = {num2SiStringRounded(gbw)}Hz\")\n",
    "else:\n",
    "    print(f\"ft > gbw = {num2SiStringRounded(gbw)}Hz\")"
   ]
  },
  {
   "cell_type": "markdown",
   "metadata": {},
   "source": [
    "## M8, M9 Dimensioning\n",
    "$I_{DS\\_8,9} = I_{DS\\_10,11} - I_{Bias\\_DiffPair}/2$"
   ]
  },
  {
   "cell_type": "code",
   "execution_count": 328,
   "metadata": {},
   "outputs": [
    {
     "name": "stdout",
     "output_type": "stream",
     "text": [
      "IDS_8,9 = 83.546u\n",
      "W/L_8,9 = 2.401u/130.0n\n",
      "VDSat_6,7 = 162.969m\n"
     ]
    }
   ],
   "source": [
    "I8_9 = I10_11 - IBiasDiffPair/2\n",
    "print(f\"IDS_8,9 = {num2SiStringRounded(I8_9)}\")\n",
    "IC = 10      # strong inversion\n",
    "W_L_8_9 = getDimensions(IC, I8_9, \"p\")\n",
    "L = siString2Num(\"130n\")\n",
    "W = W_L_8_9 * L\n",
    "print(f\"W/L_8,9 = {num2SiStringRounded(W)}/{num2SiStringRounded(L)}\")\n",
    "print(f\"VDSat_6,7 = {num2SiStringRounded(getVDSat(IC))}\")\n"
   ]
  },
  {
   "cell_type": "code",
   "execution_count": 329,
   "metadata": {},
   "outputs": [
    {
     "name": "stdout",
     "output_type": "stream",
     "text": [
      "ft = 2.927GHz\n",
      "ft > gbw = 40.0MHz\n"
     ]
    }
   ],
   "source": [
    "ft = (u_p*VT)/(2*np.pi*L**2)*(np.sqrt(1+IC)-1)\n",
    "print(f\"ft = {num2SiStringRounded(ft)}Hz\")\n",
    "if ft < gbw:\n",
    "    print(f\"ft < gbw = {num2SiStringRounded(gbw)}Hz\")\n",
    "else:\n",
    "    print(f\"ft > gbw = {num2SiStringRounded(gbw)}Hz\")"
   ]
  },
  {
   "cell_type": "markdown",
   "metadata": {},
   "source": [
    "# Do a design handbook for the folded cascode\n",
    "# get design equations for the folded cascode; mainly find the small signal parameters: gm, rds, Cgs, Cgd, gmb??\n",
    "# Write a comparative demonstration between a design following square law equations and one following the ekv model"
   ]
  },
  {
   "cell_type": "code",
   "execution_count": null,
   "metadata": {},
   "outputs": [],
   "source": []
  }
 ],
 "metadata": {
  "kernelspec": {
   "display_name": "Python 3",
   "language": "python",
   "name": "python3"
  },
  "language_info": {
   "codemirror_mode": {
    "name": "ipython",
    "version": 3
   },
   "file_extension": ".py",
   "mimetype": "text/x-python",
   "name": "python",
   "nbconvert_exporter": "python",
   "pygments_lexer": "ipython3",
   "version": "3.12.8"
  }
 },
 "nbformat": 4,
 "nbformat_minor": 2
}
