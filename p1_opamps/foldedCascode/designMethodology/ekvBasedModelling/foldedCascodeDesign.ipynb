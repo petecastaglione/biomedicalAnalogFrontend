{
 "cells": [
  {
   "cell_type": "code",
   "execution_count": 2,
   "metadata": {},
   "outputs": [],
   "source": [
    "from sympy.interactive import printing\n",
    "printing.init_printing(use_latex = True)\n",
    "import numpy as np\n",
    "import sympy as sp\n",
    "# import scipy as sp\n",
    "import latexify"
   ]
  },
  {
   "cell_type": "code",
   "execution_count": 3,
   "metadata": {},
   "outputs": [
    {
     "data": {
      "text/latex": [
       "$$ \\displaystyle \\begin{array}{l} \\mathrm{VT} = 0.0258 \\\\ \\mathrm{ekv}(\\mathrm{VG}, \\mathrm{Is}, \\mathrm{Vth0}, k, \\mathrm{theta}, W, L) = \\mathrm{Is} \\cdot \\frac{W}{L} \\frac{1}{1 + \\mathrm{theta} \\cdot k \\cdot \\mathopen{}\\left( \\mathrm{VG} - \\mathrm{Vth0} \\mathclose{}\\right)} \\mathopen{}\\left( \\log \\mathopen{}\\left( 1 + \\exp \\mathopen{}\\left( \\frac{k \\cdot \\mathopen{}\\left( \\mathrm{VG} - \\mathrm{Vth0} \\mathclose{}\\right)}{2 \\mathrm{VT}} \\mathclose{}\\right) \\mathclose{}\\right) \\mathclose{}\\right)^{2} \\end{array} $$"
      ],
      "text/plain": [
       "<latexify.ipython_wrappers.LatexifiedFunction at 0x18e58cd1a60>"
      ]
     },
     "execution_count": 3,
     "metadata": {},
     "output_type": "execute_result"
    }
   ],
   "source": [
    "@latexify.function\n",
    "def ekv(VG, Is, Vth0, k, theta, W, L):\n",
    "        VT = 0.0258\n",
    "        return Is*(W/L)*(1/(1+theta*k*(VG-Vth0)))*(np.log(1 + np.exp(k * (VG - Vth0) / (2 * VT))))**2\n",
    "\n",
    "ekv\n",
    "\n",
    "#Write ekv function in latex"
   ]
  },
  {
   "cell_type": "code",
   "execution_count": 4,
   "metadata": {},
   "outputs": [
    {
     "data": {
      "image/png": "[encoded data removed]",
      "text/latex": [
       "$\\displaystyle \\frac{Is W \\log{\\left(e^{\\frac{k \\left(VG - Vth_{0}\\right)}{2 VT}} + 1 \\right)}^{2}}{L \\left(k \\theta \\left(VG - Vth_{0}\\right) + 1\\right)}$"
      ],
      "text/plain": [
       "         ⎛ k⋅(VG - Vth₀)    ⎞\n",
       "         ⎜ ─────────────    ⎟\n",
       "        2⎜     2⋅VT         ⎟\n",
       "Is⋅W⋅log ⎝ℯ              + 1⎠\n",
       "─────────────────────────────\n",
       "   L⋅(k⋅θ⋅(VG - Vth₀) + 1)   "
      ]
     },
     "execution_count": 4,
     "metadata": {},
     "output_type": "execute_result"
    }
   ],
   "source": [
    "Is, W, L, Vth0, k, theta, VG, VT = sp.symbols('Is W L Vth0 k theta VG, VT')\n",
    "Id = Is*(W/L)*(1/(1+theta*k*(VG-Vth0)))*(sp.log(1 + sp.exp(k * (VG - Vth0) / (2 * VT))))**2\n",
    "Id"
   ]
  },
  {
   "cell_type": "code",
   "execution_count": null,
   "metadata": {},
   "outputs": [],
   "source": []
  },
  {
   "cell_type": "markdown",
   "metadata": {},
   "source": [
    "# Do a design handbook for the folded cascode\n",
    "# get design equations for the folded cascode; mainly find the small signal parameters: gm, rds, Cgs, Cgd, gmb??\n",
    "# Write a comparative demonstration between a design following square law equations and one following the ekv model"
   ]
  }
 ],
 "metadata": {
  "kernelspec": {
   "display_name": "Python 3",
   "language": "python",
   "name": "python3"
  },
  "language_info": {
   "codemirror_mode": {
    "name": "ipython",
    "version": 3
   },
   "file_extension": ".py",
   "mimetype": "text/x-python",
   "name": "python",
   "nbconvert_exporter": "python",
   "pygments_lexer": "ipython3",
   "version": "3.12.8"
  }
 },
 "nbformat": 4,
 "nbformat_minor": 2
}
