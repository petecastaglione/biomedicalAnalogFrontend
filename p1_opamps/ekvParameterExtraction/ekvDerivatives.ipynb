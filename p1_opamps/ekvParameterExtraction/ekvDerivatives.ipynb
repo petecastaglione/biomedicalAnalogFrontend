{
 "cells": [
  {
   "cell_type": "code",
   "execution_count": 28,
   "metadata": {},
   "outputs": [],
   "source": [
    "from sympy.interactive import printing\n",
    "printing.init_printing(use_latex = True)\n",
    "import numpy as np\n",
    "import sympy as sp\n",
    "# import scipy as sp\n",
    "import latexify"
   ]
  },
  {
   "cell_type": "code",
   "execution_count": 29,
   "metadata": {},
   "outputs": [
    {
     "data": {
      "text/latex": [
       "$$ \\displaystyle \\begin{array}{l} \\mathrm{VT} = 0.0258 \\\\ \\mathrm{ekv}(\\mathrm{VG}, \\mathrm{Is}, \\mathrm{Vth0}, k, \\mathrm{theta}, W, L) = \\mathrm{Is} \\cdot \\frac{W}{L} \\frac{1}{1 + \\mathrm{theta} \\cdot k \\cdot \\mathopen{}\\left( \\mathrm{VG} - \\mathrm{Vth0} \\mathclose{}\\right)} \\mathopen{}\\left( \\log \\mathopen{}\\left( 1 + \\exp \\mathopen{}\\left( \\frac{k \\cdot \\mathopen{}\\left( \\mathrm{VG} - \\mathrm{Vth0} \\mathclose{}\\right)}{2 \\mathrm{VT}} \\mathclose{}\\right) \\mathclose{}\\right) \\mathclose{}\\right)^{2} \\end{array} $$"
      ],
      "text/plain": [
       "<latexify.ipython_wrappers.LatexifiedFunction at 0x1a031c8fb30>"
      ]
     },
     "execution_count": 29,
     "metadata": {},
     "output_type": "execute_result"
    }
   ],
   "source": [
    "@latexify.function\n",
    "def ekv(VG, Is, Vth0, k, theta, W, L):\n",
    "        VT = 0.0258\n",
    "        return Is*(W/L)*(1/(1+theta*k*(VG-Vth0)))*(np.log(1 + np.exp(k * (VG - Vth0) / (2 * VT))))**2\n",
    "\n",
    "ekv"
   ]
  },
  {
   "cell_type": "code",
   "execution_count": 30,
   "metadata": {},
   "outputs": [],
   "source": [
    "Is, W, L, Vth0, k, theta, VG, VT = sp.symbols('Is W L Vth0 k theta VG, VT')\n",
    "Id = Is*(W/L)*(1/(1+theta*k*(VG-Vth0)))*(sp.log(1 + sp.exp(k * (VG - Vth0) / (2 * VT))))**2"
   ]
  },
  {
   "cell_type": "code",
   "execution_count": 31,
   "metadata": {},
   "outputs": [
    {
     "data": {
      "image/png": "[encoded data removed]",
      "text/latex": [
       "$\\displaystyle \\frac{W \\log{\\left(e^{\\frac{k \\left(VG - Vth_{0}\\right)}{2 VT}} + 1 \\right)}^{2}}{L \\left(k \\theta \\left(VG - Vth_{0}\\right) + 1\\right)}$"
      ],
      "text/plain": [
       "      ⎛ k⋅(VG - Vth₀)    ⎞\n",
       "      ⎜ ─────────────    ⎟\n",
       "     2⎜     2⋅VT         ⎟\n",
       "W⋅log ⎝ℯ              + 1⎠\n",
       "──────────────────────────\n",
       " L⋅(k⋅θ⋅(VG - Vth₀) + 1)  "
      ]
     },
     "execution_count": 31,
     "metadata": {},
     "output_type": "execute_result"
    }
   ],
   "source": [
    "dekv_dIs = sp.diff(Id, Is)\n",
    "dekv_dIs"
   ]
  },
  {
   "cell_type": "code",
   "execution_count": 32,
   "metadata": {},
   "outputs": [
    {
     "data": {
      "image/png": "[encoded data removed]",
      "text/latex": [
       "$\\displaystyle - \\frac{Is W \\theta \\left(VG - Vth_{0}\\right) \\log{\\left(e^{\\frac{k \\left(VG - Vth_{0}\\right)}{2 VT}} + 1 \\right)}^{2}}{L \\left(k \\theta \\left(VG - Vth_{0}\\right) + 1\\right)^{2}} + \\frac{Is W \\left(VG - Vth_{0}\\right) e^{\\frac{k \\left(VG - Vth_{0}\\right)}{2 VT}} \\log{\\left(e^{\\frac{k \\left(VG - Vth_{0}\\right)}{2 VT}} + 1 \\right)}}{L VT \\left(k \\theta \\left(VG - Vth_{0}\\right) + 1\\right) \\left(e^{\\frac{k \\left(VG - Vth_{0}\\right)}{2 VT}} + 1\\right)}$"
      ],
      "text/plain": [
       "                         ⎛ k⋅(VG - Vth₀)    ⎞                     k⋅(VG - Vth₀ ↪\n",
       "                         ⎜ ─────────────    ⎟                     ──────────── ↪\n",
       "                        2⎜     2⋅VT         ⎟                         2⋅VT     ↪\n",
       "  Is⋅W⋅θ⋅(VG - Vth₀)⋅log ⎝ℯ              + 1⎠   Is⋅W⋅(VG - Vth₀)⋅ℯ             ↪\n",
       "- ─────────────────────────────────────────── + ────────────────────────────── ↪\n",
       "                                  2                                            ↪\n",
       "           L⋅(k⋅θ⋅(VG - Vth₀) + 1)                                             ↪\n",
       "                                                                               ↪\n",
       "                                                    L⋅VT⋅(k⋅θ⋅(VG - Vth₀) + 1) ↪\n",
       "\n",
       "↪ )    ⎛ k⋅(VG - Vth₀)    ⎞\n",
       "↪ ─    ⎜ ─────────────    ⎟\n",
       "↪      ⎜     2⋅VT         ⎟\n",
       "↪  ⋅log⎝ℯ              + 1⎠\n",
       "↪ ─────────────────────────\n",
       "↪  ⎛ k⋅(VG - Vth₀)    ⎞    \n",
       "↪  ⎜ ─────────────    ⎟    \n",
       "↪  ⎜     2⋅VT         ⎟    \n",
       "↪ ⋅⎝ℯ              + 1⎠    "
      ]
     },
     "execution_count": 32,
     "metadata": {},
     "output_type": "execute_result"
    }
   ],
   "source": [
    "dekv_dk = sp.diff(Id, k)\n",
    "dekv_dk"
   ]
  },
  {
   "cell_type": "code",
   "execution_count": 33,
   "metadata": {},
   "outputs": [
    {
     "data": {
      "image/png": "[encoded data removed]",
      "text/latex": [
       "$\\displaystyle \\frac{Is W k \\theta \\log{\\left(e^{\\frac{k \\left(VG - Vth_{0}\\right)}{2 VT}} + 1 \\right)}^{2}}{L \\left(k \\theta \\left(VG - Vth_{0}\\right) + 1\\right)^{2}} - \\frac{Is W k e^{\\frac{k \\left(VG - Vth_{0}\\right)}{2 VT}} \\log{\\left(e^{\\frac{k \\left(VG - Vth_{0}\\right)}{2 VT}} + 1 \\right)}}{L VT \\left(k \\theta \\left(VG - Vth_{0}\\right) + 1\\right) \\left(e^{\\frac{k \\left(VG - Vth_{0}\\right)}{2 VT}} + 1\\right)}$"
      ],
      "text/plain": [
       "             ⎛ k⋅(VG - Vth₀)    ⎞            k⋅(VG - Vth₀)    ⎛ k⋅(VG - Vth₀)  ↪\n",
       "             ⎜ ─────────────    ⎟            ─────────────    ⎜ ─────────────  ↪\n",
       "            2⎜     2⋅VT         ⎟                2⋅VT         ⎜     2⋅VT       ↪\n",
       "Is⋅W⋅k⋅θ⋅log ⎝ℯ              + 1⎠    Is⋅W⋅k⋅ℯ             ⋅log⎝ℯ               ↪\n",
       "───────────────────────────────── - ────────────────────────────────────────── ↪\n",
       "                           2                                   ⎛ k⋅(VG - Vth₀) ↪\n",
       "    L⋅(k⋅θ⋅(VG - Vth₀) + 1)                                    ⎜ ───────────── ↪\n",
       "                                                               ⎜     2⋅VT      ↪\n",
       "                                    L⋅VT⋅(k⋅θ⋅(VG - Vth₀) + 1)⋅⎝ℯ              ↪\n",
       "\n",
       "↪    ⎞ \n",
       "↪    ⎟ \n",
       "↪    ⎟ \n",
       "↪ + 1⎠ \n",
       "↪ ─────\n",
       "↪     ⎞\n",
       "↪     ⎟\n",
       "↪     ⎟\n",
       "↪  + 1⎠"
      ]
     },
     "execution_count": 33,
     "metadata": {},
     "output_type": "execute_result"
    }
   ],
   "source": [
    "dekv_dVth0 = sp.diff(Id, Vth0)\n",
    "dekv_dVth0"
   ]
  },
  {
   "cell_type": "code",
   "execution_count": 34,
   "metadata": {},
   "outputs": [
    {
     "data": {
      "image/png": "[encoded data removed]",
      "text/latex": [
       "$\\displaystyle - \\frac{Is W k \\left(VG - Vth_{0}\\right) \\log{\\left(e^{\\frac{k \\left(VG - Vth_{0}\\right)}{2 VT}} + 1 \\right)}^{2}}{L \\left(k \\theta \\left(VG - Vth_{0}\\right) + 1\\right)^{2}}$"
      ],
      "text/plain": [
       "                        ⎛ k⋅(VG - Vth₀)    ⎞ \n",
       "                        ⎜ ─────────────    ⎟ \n",
       "                       2⎜     2⋅VT         ⎟ \n",
       "-Is⋅W⋅k⋅(VG - Vth₀)⋅log ⎝ℯ              + 1⎠ \n",
       "─────────────────────────────────────────────\n",
       "                                 2           \n",
       "          L⋅(k⋅θ⋅(VG - Vth₀) + 1)            "
      ]
     },
     "execution_count": 34,
     "metadata": {},
     "output_type": "execute_result"
    }
   ],
   "source": [
    "dekv_dtheta = sp.diff(Id, theta)\n",
    "dekv_dtheta"
   ]
  },
  {
   "cell_type": "code",
   "execution_count": 35,
   "metadata": {},
   "outputs": [],
   "source": [
    "Is, W, L, Vth0, k, theta, VG, VT = sp.symbols('Is W L Vth0 k theta VG, VT')\n",
    "Id_ekv_4param = Is*(W/L)*(1/(1+theta*k*(VG-Vth0)))*(sp.log(1 + sp.exp(k * (VG - Vth0) / (2 * VT))))**2\n",
    "\n",
    "\n",
    "dekv_dIs_sym = sp.diff(Id_ekv_4param, Is)\n",
    "dekv_dk_sym = sp.diff(Id_ekv_4param, k)\n",
    "dekv_dVth0_sym = sp.diff(Id_ekv_4param, Vth0)\n",
    "dekv_dtheta_sym = sp.diff(Id_ekv_4param, theta)\n",
    "\n",
    "dekv_dIs = sp.lambdify((VG, W, L, VT, Is, Vth0, k, theta), dekv_dIs_sym, 'numpy')\n",
    "dekv_dk = sp.lambdify((VG, W, L, VT, Is, Vth0, k, theta), dekv_dk_sym, 'numpy')\n",
    "dekv_dVth0 = sp.lambdify((VG, W, L, VT, Is, Vth0, k, theta), dekv_dVth0_sym, 'numpy')\n",
    "dekv_dtheta = sp.lambdify((VG, W, L, VT, Is, Vth0, k, theta), dekv_dtheta_sym, 'numpy')"
   ]
  },
  {
   "cell_type": "code",
   "execution_count": 36,
   "metadata": {},
   "outputs": [
    {
     "name": "stdout",
     "output_type": "stream",
     "text": [
      "0.4804530139182014\n"
     ]
    }
   ],
   "source": [
    "def ekv_4param(VG, *params, W, L):\n",
    "        Is, Vth0, kappa, theta = params\n",
    "        return Is*(W/L)/(1+theta*kappa*(VG-Vth0))*(np.log(1 + np.exp(kappa * (VG - Vth0) / (2 * 0.0258)))**2)\n",
    "\n",
    "ekv = ekv_4param\n",
    "print(ekv(1, *[1, 1, 1, 1], W=1, L=1))"
   ]
  }
 ],
 "metadata": {
  "kernelspec": {
   "display_name": "Python 3",
   "language": "python",
   "name": "python3"
  },
  "language_info": {
   "codemirror_mode": {
    "name": "ipython",
    "version": 3
   },
   "file_extension": ".py",
   "mimetype": "text/x-python",
   "name": "python",
   "nbconvert_exporter": "python",
   "pygments_lexer": "ipython3",
   "version": "3.12.8"
  }
 },
 "nbformat": 4,
 "nbformat_minor": 2
}
